{
 "cells": [
  {
   "cell_type": "code",
   "execution_count": 17,
   "metadata": {},
   "outputs": [],
   "source": [
    "import numpy as np  # the Python array package\n",
    "import matplotlib.pyplot as plt \n",
    "import nibabel as nib\n",
    "import numpy.linalg as npl\n",
    "\n",
    "%matplotlib inline"
   ]
  },
  {
   "cell_type": "code",
   "execution_count": 3,
   "metadata": {},
   "outputs": [
    {
     "data": {
      "text/plain": [
       "(64, 64, 30, 173)"
      ]
     },
     "execution_count": 3,
     "metadata": {},
     "output_type": "execute_result"
    }
   ],
   "source": [
    "img = nib.load('data/ds114_sub009_t2r1.nii')\n",
    "data = img.get_data()\n",
    "data.shape"
   ]
  },
  {
   "cell_type": "markdown",
   "metadata": {},
   "source": [
    "We can think of the shape of the data as two parts - the first 3 values are the 3D shape of the individual volumes, and the last value is the number of volumes.\n",
    "\n",
    "Put the 3D shape into a variable `vol_shape` and the number of volumes into a variable `n_vols`:"
   ]
  },
  {
   "cell_type": "code",
   "execution_count": 4,
   "metadata": {},
   "outputs": [
    {
     "data": {
      "text/plain": [
       "(64, 64, 30)"
      ]
     },
     "execution_count": 4,
     "metadata": {},
     "output_type": "execute_result"
    }
   ],
   "source": [
    "vol_shape = data.shape[:-1]\n",
    "vol_shape "
   ]
  },
  {
   "cell_type": "code",
   "execution_count": 5,
   "metadata": {},
   "outputs": [
    {
     "data": {
      "text/plain": [
       "173"
      ]
     },
     "execution_count": 5,
     "metadata": {},
     "output_type": "execute_result"
    }
   ],
   "source": [
    "n_vols = data.shape[-1]\n",
    "n_vols"
   ]
  },
  {
   "cell_type": "markdown",
   "metadata": {},
   "source": [
    "We are going to start by looking at only the first two \"variables\" (time points).\n",
    "\n",
    "Slice the data array to make a new array that contains only the first two volumes:"
   ]
  },
  {
   "cell_type": "code",
   "execution_count": 7,
   "metadata": {},
   "outputs": [
    {
     "data": {
      "text/plain": [
       "(64, 64, 30, 2)"
      ]
     },
     "execution_count": 7,
     "metadata": {},
     "output_type": "execute_result"
    }
   ],
   "source": [
    "# Slice the image data array to give array with only first two volumes\n",
    "first_two = data[..., :2]\n",
    "first_two.shape"
   ]
  },
  {
   "cell_type": "markdown",
   "metadata": {},
   "source": [
    "How many voxels are there in one volume?  Call this number variable `N`:"
   ]
  },
  {
   "cell_type": "code",
   "execution_count": 8,
   "metadata": {},
   "outputs": [
    {
     "data": {
      "text/plain": [
       "122880"
      ]
     },
     "execution_count": 8,
     "metadata": {},
     "output_type": "execute_result"
    }
   ],
   "source": [
    "# Set N to be the number of voxels in a volume\n",
    "N = np.prod(vol_shape)\n",
    "N"
   ]
  },
  {
   "cell_type": "markdown",
   "metadata": {},
   "source": [
    "Reshape the new two-volume data array to have a first dimension length N and second dimension length 2. So, each column corresponds to the voxels for one volume."
   ]
  },
  {
   "cell_type": "code",
   "execution_count": 9,
   "metadata": {},
   "outputs": [
    {
     "data": {
      "text/plain": [
       "(122880, 2)"
      ]
     },
     "execution_count": 9,
     "metadata": {},
     "output_type": "execute_result"
    }
   ],
   "source": [
    "# Reshape to 2D array with first dimension length N\n",
    "first_two = first_two.reshape((N, 2))\n",
    "first_two.shape"
   ]
  },
  {
   "cell_type": "markdown",
   "metadata": {},
   "source": [
    "Take the transpose of this array to get a 2 by `N` array, ready for the PCA:"
   ]
  },
  {
   "cell_type": "code",
   "execution_count": 10,
   "metadata": {},
   "outputs": [
    {
     "data": {
      "text/plain": [
       "(2, 122880)"
      ]
     },
     "execution_count": 10,
     "metadata": {},
     "output_type": "execute_result"
    }
   ],
   "source": [
    "# Transpose to 2 by N array\n",
    "first_two = first_two.T\n",
    "first_two.shape"
   ]
  },
  {
   "cell_type": "markdown",
   "metadata": {},
   "source": [
    "Calculate the mean across columns (row means):"
   ]
  },
  {
   "cell_type": "code",
   "execution_count": 11,
   "metadata": {},
   "outputs": [
    {
     "data": {
      "text/plain": [
       "array([414.40107422, 336.69940592])"
      ]
     },
     "execution_count": 11,
     "metadata": {},
     "output_type": "execute_result"
    }
   ],
   "source": [
    "# Calculate the mean across columns\n",
    "row_means = np.mean(first_two, axis=1)\n",
    "row_means"
   ]
  },
  {
   "cell_type": "markdown",
   "metadata": {},
   "source": [
    "Expand the row_means vector out to a 2 by N array by using `np.outer` and a vector of ones:"
   ]
  },
  {
   "cell_type": "code",
   "execution_count": 12,
   "metadata": {},
   "outputs": [
    {
     "data": {
      "text/plain": [
       "(2, 122880)"
      ]
     },
     "execution_count": 12,
     "metadata": {},
     "output_type": "execute_result"
    }
   ],
   "source": [
    "# Row means copied N times to become a 2 by N array\n",
    "row_means = np.outer(row_means, np.ones(N))\n",
    "row_means.shape"
   ]
  },
  {
   "cell_type": "markdown",
   "metadata": {},
   "source": [
    "Subtract this expanded 2 by N means array from the 2 by N data matrix and put the result into a variable X. Print the means across columns (row means) to check they are now very close to 0:"
   ]
  },
  {
   "cell_type": "code",
   "execution_count": 13,
   "metadata": {},
   "outputs": [
    {
     "data": {
      "text/plain": [
       "array([-1.51582450e-14,  1.36424205e-13])"
      ]
     },
     "execution_count": 13,
     "metadata": {},
     "output_type": "execute_result"
    }
   ],
   "source": [
    "# Subtract the means for each row, put the result into X\n",
    "# Show the means over the columns, after the subtraction\n",
    "X = first_two - row_means\n",
    "np.mean(X, axis=1)"
   ]
  },
  {
   "cell_type": "markdown",
   "metadata": {},
   "source": [
    "Plot the two rows against each other to get a feel for the variation.  Remember that each row in `X` is a volume, so you are plotting the signal from the first volume against the signal for the second volume."
   ]
  },
  {
   "cell_type": "code",
   "execution_count": 14,
   "metadata": {},
   "outputs": [
    {
     "data": {
      "text/plain": [
       "[<matplotlib.lines.Line2D at 0x7f182a706b00>]"
      ]
     },
     "execution_count": 14,
     "metadata": {},
     "output_type": "execute_result"
    },
    {
     "data": {
      "image/png": "[encoded data removed]",
      "text/plain": [
       "<Figure size 432x288 with 1 Axes>"
      ]
     },
     "metadata": {},
     "output_type": "display_data"
    }
   ],
   "source": [
    "# Plot the signal in the first row against the signal in the second\n",
    "plt.plot(X[0], X[1], '+')"
   ]
  },
  {
   "cell_type": "markdown",
   "metadata": {},
   "source": [
    "#### Time for the PCA.\n",
    "\n",
    "We are going to use the *unscaled* covariance.  This is given by the matrix multiplication of `X` with its transpose.  Calculate this:"
   ]
  },
  {
   "cell_type": "code",
   "execution_count": 15,
   "metadata": {},
   "outputs": [
    {
     "data": {
      "text/plain": [
       "array([[8.04237807e+10, 6.12641298e+10],\n",
       "       [6.12641298e+10, 4.92491046e+10]])"
      ]
     },
     "execution_count": 15,
     "metadata": {},
     "output_type": "execute_result"
    }
   ],
   "source": [
    "# Calculate unscaled covariance matrix for X\n",
    "unscaled_covariance = X.dot(X.T)\n",
    "unscaled_covariance"
   ]
  },
  {
   "cell_type": "markdown",
   "metadata": {},
   "source": [
    "Use SVD to get the U, S and V matrices from the unscaled covariance:"
   ]
  },
  {
   "cell_type": "code",
   "execution_count": 18,
   "metadata": {},
   "outputs": [],
   "source": [
    "# Use SVD to return U, S, V matrices from unscaled covariance\n",
    "U, S, V = npl.svd(unscaled_covariance)"
   ]
  },
  {
   "cell_type": "markdown",
   "metadata": {},
   "source": [
    "Confirm that the row vectors in `V` are both unit vectors.  A unit vector has vector length (vector *norm* of 1):"
   ]
  },
  {
   "cell_type": "code",
   "execution_count": 19,
   "metadata": {},
   "outputs": [
    {
     "data": {
      "text/plain": [
       "array([1., 1.])"
      ]
     },
     "execution_count": 19,
     "metadata": {},
     "output_type": "execute_result"
    }
   ],
   "source": [
    "# Show that the rows in V each have vector length 1\n",
    "np.sum(V ** 2, axis=1)"
   ]
  },
  {
   "cell_type": "markdown",
   "metadata": {},
   "source": [
    "Confirm that the first row in `V` is orthogonal to the second:"
   ]
  },
  {
   "cell_type": "code",
   "execution_count": 20,
   "metadata": {},
   "outputs": [
    {
     "data": {
      "text/plain": [
       "0.0"
      ]
     },
     "execution_count": 20,
     "metadata": {},
     "output_type": "execute_result"
    }
   ],
   "source": [
    "# Confirm orthogonality of rows in V\n",
    "V[0].dot(V[1])"
   ]
  },
  {
   "cell_type": "markdown",
   "metadata": {},
   "source": [
    "Show the total sum of squares in `X`.   Confirm that the total sum of squares in `X` is the same as the sum of the *singular values* in the `S` vector from the SVD:"
   ]
  },
  {
   "cell_type": "code",
   "execution_count": 21,
   "metadata": {},
   "outputs": [
    {
     "name": "stdout",
     "output_type": "stream",
     "text": [
      "129672885307.41481\n",
      "129672885307.41481\n"
     ]
    }
   ],
   "source": [
    "# Show the total sum of squares in X\n",
    "# Is this (nearly) the same as the sum of the values in S?\n",
    "print(np.sum(X ** 2))\n",
    "print(np.sum(S))"
   ]
  },
  {
   "cell_type": "markdown",
   "metadata": {},
   "source": [
    "Plot the first row in `X` against the second row in `X` again.  This time add a line corresponding to the first principal component.  You'll have to scale this line (a unit vector) to make it long enough to see on the axes of the plot.  If the first principal component is flipped ($\\vec{r}$ defines same line as $-\\vec{r}$) you may need to scale by a negative number for it to look nice on the plot:"
   ]
  },
  {
   "cell_type": "code",
   "execution_count": 22,
   "metadata": {},
   "outputs": [
    {
     "data": {
      "text/plain": [
       "3157.9395737007"
      ]
     },
     "execution_count": 22,
     "metadata": {},
     "output_type": "execute_result"
    },
    {
     "data": {
      "image/png": "[encoded data removed]",
      "text/plain": [
       "<Figure size 432x288 with 1 Axes>"
      ]
     },
     "metadata": {},
     "output_type": "display_data"
    }
   ],
   "source": [
    "# Plot the signal in the first row against the signal in the second\n",
    "# Plot line corresponding to a scaled version of the first principal component\n",
    "# (Scaling may need to be negative)\n",
    "plt.plot(X[0], X[1], '+')\n",
    "scaled_v = V[0] * -4000\n",
    "plt.plot([0, scaled_v[0]], [0, scaled_v[1]], 'r')\n",
    "scaled_v[0]"
   ]
  },
  {
   "cell_type": "markdown",
   "metadata": {},
   "source": [
    "Remember the projection formula $c = \\hat{u} \\cdot \\vec{v}$.   \n",
    "\n",
    "We now need to calculate the projection coefficients $c$ for each component $\\hat{u}$ and each voxel (each $\\vec{v}$).\n",
    "\n",
    "This will give us a new output matrix of coefficients $C$ which is shape `(2, N)`, where the rows give the coefficients for one component, and the columns give the coefficients for one voxel.\n",
    "\n",
    "For example, `C[0, 0]` will be the result of `V[0].dot(X[:, 0])`, `C[0, 1]` will be the result of `V[0].dot(X[:, 1])`, and `C[1, 0]` will be the result of `V[1].dot(X[:, 0])`.\n",
    "\n",
    "With that background, see if you can use matrix multiplication to calculate the projection coefficients `C` for projecting the data `X` onto the vectors in `V`:"
   ]
  },
  {
   "cell_type": "code",
   "execution_count": 23,
   "metadata": {},
   "outputs": [
    {
     "data": {
      "text/plain": [
       "(2, 122880)"
      ]
     },
     "execution_count": 23,
     "metadata": {},
     "output_type": "execute_result"
    }
   ],
   "source": [
    "# Calculate the projection coefficients for projecting X onto the vectors in V\n",
    "# Put the result into a new array C.\n",
    "C = V.dot(first_two)\n",
    "C.shape"
   ]
  },
  {
   "cell_type": "markdown",
   "metadata": {},
   "source": [
    "Remember that `C` - the projection coefficients - has one column per voxel.  We can think of each row as corresponding to a volume where the volumes are contained in: `C[0]` (first row of `C`) - projection coefficients for first principal component; `C[1]` (second row of C) - projection coefficients for second principal component.\n",
    "    \n",
    "    \n",
    "Take the transpose of `C` and reshape the resulting first dimension (length `N`) back to `vol_shape` - the original shape of the 3D volumes in the data."
   ]
  },
  {
   "cell_type": "code",
   "execution_count": 24,
   "metadata": {},
   "outputs": [
    {
     "data": {
      "text/plain": [
       "(64, 64, 30, 2)"
      ]
     },
     "execution_count": 24,
     "metadata": {},
     "output_type": "execute_result"
    }
   ],
   "source": [
    "# Transpose C\n",
    "# Reshape the first dimension of C to have the 3D shape of the original data volumes.\n",
    "C_vols = C.T.reshape(vol_shape + (2,))\n",
    "C_vols.shape"
   ]
  },
  {
   "cell_type": "markdown",
   "metadata": {},
   "source": [
    "Break this 4D array up into two volumes (volume for first component, volume for second component) using slicing:"
   ]
  },
  {
   "cell_type": "code",
   "execution_count": 25,
   "metadata": {},
   "outputs": [],
   "source": [
    "# Break 4D array into two 3D volumes\n",
    "vol0 = C_vols[..., 0]\n",
    "vol1 = C_vols[..., 1]"
   ]
  },
  {
   "cell_type": "code",
   "execution_count": 28,
   "metadata": {},
   "outputs": [
    {
     "data": {
      "text/plain": [
       "((64, 64, 30), 122880)"
      ]
     },
     "execution_count": 28,
     "metadata": {},
     "output_type": "execute_result"
    }
   ],
   "source": [
    "vol0.shape, vol0.size"
   ]
  },
  {
   "cell_type": "code",
   "execution_count": 29,
   "metadata": {},
   "outputs": [
    {
     "data": {
      "text/plain": [
       "((64, 64, 30), 122880)"
      ]
     },
     "execution_count": 29,
     "metadata": {},
     "output_type": "execute_result"
    }
   ],
   "source": [
    "vol1.shape, vol1.size"
   ]
  },
  {
   "cell_type": "markdown",
   "metadata": {},
   "source": [
    "Show the middle slice (slice over the third dimension) from the volume of coefficients for the first component:"
   ]
  },
  {
   "cell_type": "code",
   "execution_count": 30,
   "metadata": {},
   "outputs": [
    {
     "data": {
      "text/plain": [
       "<matplotlib.image.AxesImage at 0x7f182a556eb8>"
      ]
     },
     "execution_count": 30,
     "metadata": {},
     "output_type": "execute_result"
    },
    {
     "data": {
      "image/png": "[encoded data removed]",
      "text/plain": [
       "<Figure size 432x288 with 1 Axes>"
      ]
     },
     "metadata": {},
     "output_type": "display_data"
    }
   ],
   "source": [
    "# Show middle slice (over third dimension) from volume of coefficients for first component\n",
    "plt.imshow(vol0[:, :, 14], cmap='gray')"
   ]
  },
  {
   "cell_type": "markdown",
   "metadata": {},
   "source": [
    "Show the middle slice (slice over the third dimension) from the volume of coefficients for the second component:"
   ]
  },
  {
   "cell_type": "code",
   "execution_count": 31,
   "metadata": {},
   "outputs": [
    {
     "data": {
      "text/plain": [
       "<matplotlib.image.AxesImage at 0x7f182a52f8d0>"
      ]
     },
     "execution_count": 31,
     "metadata": {},
     "output_type": "execute_result"
    },
    {
     "data": {
      "image/png": "[encoded data removed]",
      "text/plain": [
       "<Figure size 432x288 with 1 Axes>"
      ]
     },
     "metadata": {},
     "output_type": "display_data"
    }
   ],
   "source": [
    "# Show middle slice (over third dimension) from volume of coefficients for second component\n",
    "plt.imshow(vol1[:, :, 14], cmap='gray')"
   ]
  },
  {
   "cell_type": "markdown",
   "metadata": {},
   "source": [
    "Now we are ready to do the same thing for all the time points, instead of just the first two.\n",
    "\n",
    "Take the original array data matrix with `n_vols` volumes.  Reshape to be shape `(N, nvols)`.  Take the transpose to get an array shape `(n_vols, N)`:"
   ]
  },
  {
   "cell_type": "code",
   "execution_count": 32,
   "metadata": {},
   "outputs": [
    {
     "data": {
      "text/plain": [
       "(173, 122880)"
      ]
     },
     "execution_count": 32,
     "metadata": {},
     "output_type": "execute_result"
    }
   ],
   "source": [
    "# Reshape first dimension of whole image data array to N, and take transpose\n",
    "arr = data.reshape(N, n_vols).T\n",
    "arr.shape"
   ]
  },
  {
   "cell_type": "markdown",
   "metadata": {},
   "source": [
    "Calculate the mean across columns (mean per volume).  Expand this 1D shape `(173,)` vector to an array shape `(173, N)`, using `np.outer` and a vector of ones.  Subtract this array from the `(173, N)` data array to remove the mean across columns (mean per volume).  Call this mean-corrected variable `X`:"
   ]
  },
  {
   "cell_type": "code",
   "execution_count": 33,
   "metadata": {},
   "outputs": [],
   "source": [
    "# Calculate mean across columns\n",
    "# Expand to (173, N) shape using np.outer\n",
    "# Subtract from data array to remove mean over columns (row means)\n",
    "# Put result into array X\n",
    "row_means = np.outer(np.mean(arr, axis=1), np.ones(N))\n",
    "X = arr - row_means"
   ]
  },
  {
   "cell_type": "markdown",
   "metadata": {},
   "source": [
    "Get the unscaled covariance matrix of X:"
   ]
  },
  {
   "cell_type": "code",
   "execution_count": 34,
   "metadata": {},
   "outputs": [
    {
     "data": {
      "text/plain": [
       "(173, 173)"
      ]
     },
     "execution_count": 34,
     "metadata": {},
     "output_type": "execute_result"
    }
   ],
   "source": [
    "# Calculate unscaled covariance matrix of X\n",
    "unscaled_covariance = X.dot(X.T)\n",
    "unscaled_covariance.shape"
   ]
  },
  {
   "cell_type": "markdown",
   "metadata": {},
   "source": [
    "Get U, S, V outputs from the SVD of the unscaled covariance"
   ]
  },
  {
   "cell_type": "code",
   "execution_count": 35,
   "metadata": {},
   "outputs": [],
   "source": [
    "# Calculate U, S, V with SVD on unscaled covariance matrix\n",
    "U, S, V = npl.svd(unscaled_covariance)"
   ]
  },
  {
   "cell_type": "markdown",
   "metadata": {},
   "source": [
    "Use `plt.subplots` to make a column of 10 axes.  Iterate over these axes, plotting one principal component vector per axis.  You should then have a plot of each of the first 10 principal component vectors:"
   ]
  },
  {
   "cell_type": "code",
   "execution_count": 36,
   "metadata": {},
   "outputs": [
    {
     "data": {
      "image/png": "[encoded data removed]",
      "text/plain": [
       "<Figure size 432x288 with 10 Axes>"
      ]
     },
     "metadata": {},
     "output_type": "display_data"
    }
   ],
   "source": [
    "# Use subplots to make axes to plot first 10 principle component vectors\n",
    "# Plot one component vector per sub-plot.\n",
    "fig, axes = plt.subplots(10, 1)\n",
    "for i, ax in enumerate(axes):\n",
    "    ax.plot(V[i])"
   ]
  },
  {
   "cell_type": "markdown",
   "metadata": {},
   "source": [
    "Use `V` and matrix multiplication to calculate the projection coefficients for projecting the data `X` onto the principal components `V`.  Put the result into `C`:"
   ]
  },
  {
   "cell_type": "code",
   "execution_count": 37,
   "metadata": {},
   "outputs": [],
   "source": [
    "# Calculate projection coefficients for projecting X onto V\n",
    "# Put results into array C.\n",
    "C = V.dot(X)"
   ]
  },
  {
   "cell_type": "markdown",
   "metadata": {},
   "source": [
    "Remember, each row of `C` is a full volume of projection coefficients, one row per principal component.\n",
    "\n",
    "Reconstruct these rows as volumes by taking the transpose of `C` and reshaping the first dimension length `N` to the original three dimensions of the original data volumes."
   ]
  },
  {
   "cell_type": "code",
   "execution_count": 38,
   "metadata": {},
   "outputs": [],
   "source": [
    "# Transpose C\n",
    "# Reshape the first dimension of C to have the 3D shape of the original data volumes.\n",
    "C_vols = C.T.reshape(img.shape)"
   ]
  },
  {
   "cell_type": "markdown",
   "metadata": {},
   "source": [
    "Take the first volume (corresponding to the first principal component) and display the middle slice (slicing over the third dimension):"
   ]
  },
  {
   "cell_type": "code",
   "execution_count": 39,
   "metadata": {},
   "outputs": [
    {
     "data": {
      "text/plain": [
       "<matplotlib.image.AxesImage at 0x7f181350d8d0>"
      ]
     },
     "execution_count": 39,
     "metadata": {},
     "output_type": "execute_result"
    },
    {
     "data": {
      "image/png": "[encoded data removed]",
      "text/plain": [
       "<Figure size 432x288 with 1 Axes>"
      ]
     },
     "metadata": {},
     "output_type": "display_data"
    }
   ],
   "source": [
    "# Show middle slice (over third dimension) of first principal component volume\n",
    "plt.imshow(C_vols[:, :, 14, 0], cmap='gray')"
   ]
  },
  {
   "cell_type": "markdown",
   "metadata": {},
   "source": [
    "#### What does this first component show us?\n",
    "\n",
    "Remember that the projections coefficients tell us how much of the component vector there is in the data, at each voxel.  If the voxel has a high value it means there is a large amplitude of the component time-course at this voxel, and if the component is dark it means there is a large negative amplitude of the component time course.\n",
    "\n",
    "Have a look again at the first component time course.  How would a large positive or negative amplitude of the time course come about?\n",
    "\n",
    "As a hint while you are thinking, get the mean over time from the image data (mean over the last axis), and show the middle slice (slicing over the third axis):"
   ]
  },
  {
   "cell_type": "code",
   "execution_count": 40,
   "metadata": {},
   "outputs": [
    {
     "data": {
      "text/plain": [
       "<matplotlib.image.AxesImage at 0x7f1811c6e518>"
      ]
     },
     "execution_count": 40,
     "metadata": {},
     "output_type": "execute_result"
    },
    {
     "data": {
      "image/png": "[encoded data removed]",
      "text/plain": [
       "<Figure size 432x288 with 1 Axes>"
      ]
     },
     "metadata": {},
     "output_type": "display_data"
    }
   ],
   "source": [
    "# Make the mean volume (mean over the last axis)\n",
    "# Show the middle slice (slicing over the third axis)\n",
    "mean_vol = data.mean(axis=-1)\n",
    "plt.imshow(mean_vol[:, :, 14], cmap='gray')"
   ]
  },
  {
   "cell_type": "markdown",
   "metadata": {},
   "source": [
    "Display the middle slice (slicing over the third dimension) for the second principal component volume.\n",
    "\n",
    "Looking at the principal component plot - what kind of changes over time does this principal component represent?\n"
   ]
  },
  {
   "cell_type": "code",
   "execution_count": 41,
   "metadata": {},
   "outputs": [
    {
     "data": {
      "text/plain": [
       "<matplotlib.image.AxesImage at 0x7f1811c44f98>"
      ]
     },
     "execution_count": 41,
     "metadata": {},
     "output_type": "execute_result"
    },
    {
     "data": {
      "image/png": "[encoded data removed]",
      "text/plain": [
       "<Figure size 432x288 with 1 Axes>"
      ]
     },
     "metadata": {},
     "output_type": "display_data"
    }
   ],
   "source": [
    "# Show middle slice (over third dimension) of second principal component volume\n",
    "plt.imshow(C_vols[:, :, 14, 1], cmap='gray')"
   ]
  },
  {
   "cell_type": "markdown",
   "metadata": {},
   "source": [
    "Do the same for the third principal component volume:"
   ]
  },
  {
   "cell_type": "code",
   "execution_count": 42,
   "metadata": {},
   "outputs": [
    {
     "data": {
      "text/plain": [
       "<matplotlib.image.AxesImage at 0x7f1811ba4940>"
      ]
     },
     "execution_count": 42,
     "metadata": {},
     "output_type": "execute_result"
    },
    {
     "data": {
      "image/png": "[encoded data removed]",
      "text/plain": [
       "<Figure size 432x288 with 1 Axes>"
      ]
     },
     "metadata": {},
     "output_type": "display_data"
    }
   ],
   "source": [
    "# Show middle slice (over third dimension) of third principal component volume\n",
    "plt.imshow(C_vols[:, :, 14, 2], cmap='gray')"
   ]
  },
  {
   "cell_type": "code",
   "execution_count": null,
   "metadata": {},
   "outputs": [],
   "source": []
  }
 ],
 "metadata": {
  "kernelspec": {
   "display_name": "Python 3",
   "language": "python",
   "name": "python3"
  },
  "language_info": {
   "codemirror_mode": {
    "name": "ipython",
    "version": 3
   },
   "file_extension": ".py",
   "mimetype": "text/x-python",
   "name": "python",
   "nbconvert_exporter": "python",
   "pygments_lexer": "ipython3",
   "version": "3.6.5"
  }
 },
 "nbformat": 4,
 "nbformat_minor": 2
}
